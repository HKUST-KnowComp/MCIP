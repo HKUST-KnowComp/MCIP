{
 "cells": [
  {
   "cell_type": "code",
   "execution_count": 3,
   "metadata": {},
   "outputs": [],
   "source": [
    "file_name = 'MCIP_Guardian_valid_1.pt'"
   ]
  },
  {
   "cell_type": "code",
   "execution_count": null,
   "metadata": {},
   "outputs": [],
   "source": [
    "from sklearn.metrics import accuracy_score, precision_score, recall_score, f1_score, classification_report\n",
    "import torch\n",
    "y = torch.load(file_name)\n",
    "print(y.shape)\n",
    "y = torch.tensor(y.values, dtype=torch.float32)\n",
    "y_t = torch.transpose(y, 0, 1)\n",
    "y_true = y_t[0]\n",
    "y_pred = y_t[1]\n",
    "\n",
    "# 创建掩码来过滤掉y_pred为-1的样本\n",
    "mask = y_pred != -1\n",
    "y_true_filtered = y_true[mask]\n",
    "y_pred_filtered = y_pred[mask]\n",
    "\n",
    "# 转换为NumPy数组用于评估\n",
    "y_true_numpy = y_true_filtered.numpy()\n",
    "y_pred_numpy = y_pred_filtered.numpy()\n",
    "\n",
    "report = classification_report(y_true_numpy, y_pred_numpy, output_dict=True)\n",
    "\n",
    "print(f'There are {torch.sum(y_pred == -1)} missing values in y_pred')\n",
    "print(\"Classification Report:\")\n",
    "import pandas as pd\n",
    "report_df = pd.DataFrame(report).transpose()\n",
    "print(report_df)"
   ]
  },
  {
   "cell_type": "code",
   "execution_count": null,
   "metadata": {},
   "outputs": [],
   "source": [
    "from sklearn.metrics import accuracy_score, precision_score, recall_score, f1_score, classification_report\n",
    "import torch\n",
    "y = torch.load(file_name)\n",
    "print(y.shape)\n",
    "y = torch.tensor(y.values, dtype=torch.float32)\n",
    "y_t = torch.transpose(y, 0, 1)\n",
    "y_true = y_t[0]\n",
    "y_pred = y_t[1]\n",
    "\n",
    "mask = y_pred != -1\n",
    "y_true_filtered = y_true[mask]\n",
    "y_pred_filtered = y_pred[mask]\n",
    "\n",
    "# 将非0值转换为1\n",
    "y_true_binary = torch.where(y_true_filtered != 0, torch.ones_like(y_true_filtered), torch.zeros_like(y_true_filtered))\n",
    "y_pred_binary = torch.where(y_pred_filtered != 0, torch.ones_like(y_pred_filtered), torch.zeros_like(y_pred_filtered))\n",
    "\n",
    "# 转换为NumPy数组用于评估\n",
    "y_true_numpy = y_true_binary.numpy()\n",
    "y_pred_numpy = y_pred_binary.numpy()\n",
    "\n",
    "report = classification_report(y_true_numpy, y_pred_numpy, output_dict=True)\n",
    "\n",
    "print(f'There are {torch.sum(y_pred == -1)} missing values in y_pred')\n",
    "print(\"Classification Report:\")\n",
    "import pandas as pd\n",
    "report_df = pd.DataFrame(report).transpose()\n",
    "print(report_df)"
   ]
  },
  {
   "cell_type": "code",
   "execution_count": null,
   "metadata": {},
   "outputs": [],
   "source": [
    "from sklearn.metrics import accuracy_score, precision_score, recall_score, f1_score, classification_report\n",
    "import torch\n",
    "y = torch.load(file_name)\n",
    "print(y.shape)\n",
    "y = torch.tensor(y.values, dtype=torch.float32)\n",
    "y_t = torch.transpose(y, 0, 1)\n",
    "y_true = y_t[0]\n",
    "y_pred = y_t[1]\n",
    "\n",
    "# 创建掩码,去除y_pred为-1和y_true为0的样本\n",
    "mask = (y_pred != -1) & (y_true != 0)\n",
    "y_true_filtered = y_true[mask]\n",
    "y_pred_filtered = y_pred[mask]\n",
    "\n",
    "# 转换为NumPy数组用于评估\n",
    "y_true_numpy = y_true_filtered.numpy()\n",
    "y_pred_numpy = y_pred_filtered.numpy()\n",
    "\n",
    "report = classification_report(y_true_numpy, y_pred_numpy, output_dict=True)\n",
    "\n",
    "print(f'There are {torch.sum(y_pred == -1)} missing values in y_pred')\n",
    "print(\"Classification Report:\")\n",
    "import pandas as pd\n",
    "report_df = pd.DataFrame(report).transpose()\n",
    "print(report_df)\n"
   ]
  },
  {
   "cell_type": "code",
   "execution_count": null,
   "metadata": {},
   "outputs": [],
   "source": []
  }
 ],
 "metadata": {
  "kernelspec": {
   "display_name": "Python 3",
   "language": "python",
   "name": "python3"
  },
  "language_info": {
   "codemirror_mode": {
    "name": "ipython",
    "version": 3
   },
   "file_extension": ".py",
   "mimetype": "text/x-python",
   "name": "python",
   "nbconvert_exporter": "python",
   "pygments_lexer": "ipython3",
   "version": "3.10.16"
  }
 },
 "nbformat": 4,
 "nbformat_minor": 2
}
